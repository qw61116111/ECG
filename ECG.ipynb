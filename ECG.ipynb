{
  "nbformat": 4,
  "nbformat_minor": 0,
  "metadata": {
    "accelerator": "GPU",
    "colab": {
      "name": "Untitled3.ipynb",
      "provenance": [],
      "collapsed_sections": []
    },
    "kernelspec": {
      "display_name": "Python 3",
      "name": "python3"
    }
  },
  "cells": [
    {
      "cell_type": "code",
      "metadata": {
        "id": "hvoP4vLRv_9A"
      },
      "source": [
        "import os\r\n",
        "import torch\r\n",
        "import subprocess\r\n",
        "print(subprocess.check_output(\"pip install mmcv-full==latest+torch{} -f https://download.openmmlab.com/mmcv/dist/index.html\".format(torch.__version__), shell=True))\r\n",
        "!git clone -b master https://github.com/qw61116111/ECG.git \r\n",
        "os.chdir('ECG')\r\n",
        "!pip install -r ./requirements/build.txt\r\n",
        "!pip install -v -e .\r\n"
      ],
      "execution_count": null,
      "outputs": []
    },
    {
      "cell_type": "code",
      "metadata": {
        "colab": {
          "base_uri": "https://localhost:8080/"
        },
        "id": "jnNjBJEr-6N2",
        "outputId": "e69eed17-0ed0-4f95-872f-33ae226c348c"
      },
      "source": [
        "from google.colab import drive\r\n",
        "drive.mount('/content/gdrive')"
      ],
      "execution_count": 2,
      "outputs": [
        {
          "output_type": "stream",
          "text": [
            "Mounted at /content/gdrive\n"
          ],
          "name": "stdout"
        }
      ]
    },
    {
      "cell_type": "code",
      "metadata": {
        "id": "7ocHCsCGwQ5b"
      },
      "source": [
        "'''Train'''\r\n",
        "!python tools/train.py /content/ECG/configs/faster_rcnn/faster_rcnn_r50_fpn_1x_coco.py"
      ],
      "execution_count": null,
      "outputs": []
    },
    {
      "cell_type": "code",
      "metadata": {
        "id": "JPoNS_XkQwgF"
      },
      "source": [
        "import asyncio\r\n",
        "import torch\r\n",
        "from mmdet.apis import init_detector, inference_detector, show_result_pyplot\r\n",
        "\r\n",
        "config_file = 'configs/faster_rcnn/faster_rcnn_r50_fpn_1x_coco.py'\r\n",
        "checkpoint_file = '/content/gdrive/MyDrive/coco/good/epoch_400.pth'\r\n",
        "device = 'cuda:0'\r\n",
        "model = init_detector(config_file, checkpoint=checkpoint_file, device=device)\r\n",
        "\r\n",
        "out_file = os.path.join('/content/gdrive/MyDrive/coco/TestResult/')\r\n",
        "\r\n",
        "'''Output result and save'''\r\n",
        "for i in range(1,601):\r\n",
        "  img = '/content/gdrive/MyDrive/coco/test2017/%d.jpg'%i\r\n",
        "  file_name='TestResult%d.jpg'%i\r\n",
        "\r\n",
        "  result = inference_detector(model, img)\r\n",
        "\r\n",
        "  #show_result_pyplot(model, img, result, score_thr=0.0)\r\n",
        "\r\n",
        "  model.show_result(img, result, out_file=out_file+file_name,score_thr=0.0)\r\n",
        "  print(file_name+\" save\")\r\n",
        "'''Calculate the number of heartbeats'''\r\n",
        "out=open('/content/gdrive/MyDrive/coco/heartBeat.txt','w')\r\n",
        "for i in range(1,601):\r\n",
        "  print(i)\r\n",
        "  img = '/content/gdrive/MyDrive/coco/test2017/%d.jpg'%i\r\n",
        "  out_file = os.path.join('/content/gdrive/MyDrive/coco/TestResult/')  # or img = mmcv.imread(img), which will only load it once\r\n",
        "  result = inference_detector(model, img)\r\n",
        "  a=str(len(result[0]))\r\n",
        "  out.write('Heartbeats of testimg%d:　'%i+a+'\\n')\r\n",
        "out.close() \r\n",
        "\r\n"
      ],
      "execution_count": null,
      "outputs": []
    }
  ]
}